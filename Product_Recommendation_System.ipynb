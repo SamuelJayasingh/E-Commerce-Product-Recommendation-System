{
  "nbformat": 4,
  "nbformat_minor": 0,
  "metadata": {
    "colab": {
      "provenance": []
    },
    "kernelspec": {
      "name": "python3",
      "display_name": "Python 3"
    },
    "language_info": {
      "name": "python"
    }
  },
  "cells": [
    {
      "cell_type": "markdown",
      "source": [
        "**Data Cleaning and Transformation**\n",
        "\n",
        "Remove Duplicates: If there are any duplicate rows, remove them.\n",
        "\n",
        "Handle Missing Values: Handle any missing values in columns like category and about_product that may be useful for content-based filtering.\n",
        "\n",
        "Standardize Categories: Normalize text fields (convert to lowercase, remove extra spaces, etc.)."
      ],
      "metadata": {
        "id": "AjK_uSxzEpBZ"
      }
    },
    {
      "cell_type": "code",
      "source": [
        "import pandas as pd\n",
        "\n",
        "# Load the dataset\n",
        "data = pd.read_csv(\"/content/amazon.csv\")\n",
        "\n",
        "print(\"Data Shape:\", data.shape)\n",
        "print(data.columns)\n",
        "\n",
        "# Cleaning\n",
        "data = data.drop_duplicates()\n",
        "data.fillna('', inplace=True)\n",
        "\n",
        "data['category'] = data['category'].str.lower().str.strip()\n",
        "data['about_product'] = data['about_product'].str.lower().str.strip()\n",
        "data['combined_features'] = data['category'] + \" \" + data['about_product']\n",
        "\n",
        "print(data.head())\n"
      ],
      "metadata": {
        "colab": {
          "base_uri": "https://localhost:8080/"
        },
        "id": "g3kj-E3drPij",
        "outputId": "a1c23081-ecc2-4706-e603-922a2487fee2"
      },
      "execution_count": null,
      "outputs": [
        {
          "output_type": "stream",
          "name": "stdout",
          "text": [
            "Data Shape: (1465, 16)\n",
            "Index(['product_id', 'product_name', 'category', 'discounted_price',\n",
            "       'actual_price', 'discount_percentage', 'rating', 'rating_count',\n",
            "       'about_product', 'user_id', 'user_name', 'review_id', 'review_title',\n",
            "       'review_content', 'img_link', 'product_link'],\n",
            "      dtype='object')\n",
            "   product_id                                       product_name  \\\n",
            "0  B07JW9H4J1  Wayona Nylon Braided USB to Lightning Fast Cha...   \n",
            "1  B098NS6PVG  Ambrane Unbreakable 60W / 3A Fast Charging 1.5...   \n",
            "2  B096MSW6CT  Sounce Fast Phone Charging Cable & Data Sync U...   \n",
            "3  B08HDJ86NZ  boAt Deuce USB 300 2 in 1 Type-C & Micro USB S...   \n",
            "4  B08CF3B7N1  Portronics Konnect L 1.2M Fast Charging 3A 8 P...   \n",
            "\n",
            "                                            category discounted_price  \\\n",
            "0  computers&accessories|accessories&peripherals|...             ₹399   \n",
            "1  computers&accessories|accessories&peripherals|...             ₹199   \n",
            "2  computers&accessories|accessories&peripherals|...             ₹199   \n",
            "3  computers&accessories|accessories&peripherals|...             ₹329   \n",
            "4  computers&accessories|accessories&peripherals|...             ₹154   \n",
            "\n",
            "  actual_price discount_percentage rating rating_count  \\\n",
            "0       ₹1,099                 64%    4.2       24,269   \n",
            "1         ₹349                 43%    4.0       43,994   \n",
            "2       ₹1,899                 90%    3.9        7,928   \n",
            "3         ₹699                 53%    4.2       94,363   \n",
            "4         ₹399                 61%    4.2       16,905   \n",
            "\n",
            "                                       about_product  \\\n",
            "0  high compatibility : compatible with iphone 12...   \n",
            "1  compatible with all type c enabled devices, be...   \n",
            "2  【 fast charger& data sync】-with built-in safet...   \n",
            "3  the boat deuce usb 300 2 in 1 cable is compati...   \n",
            "4  [charge & sync function]- this cable comes wit...   \n",
            "\n",
            "                                             user_id  \\\n",
            "0  AG3D6O4STAQKAY2UVGEUV46KN35Q,AHMY5CWJMMK5BJRBB...   \n",
            "1  AECPFYFQVRUWC3KGNLJIOREFP5LQ,AGYYVPDD7YG7FYNBX...   \n",
            "2  AGU3BBQ2V2DDAMOAKGFAWDDQ6QHA,AESFLDV2PT363T2AQ...   \n",
            "3  AEWAZDZZJLQUYVOVGBEUKSLXHQ5A,AG5HTSFRRE6NL3M5S...   \n",
            "4  AE3Q6KSUK5P75D5HFYHCRAOLODSA,AFUGIFH5ZAFXRDSZH...   \n",
            "\n",
            "                                           user_name  \\\n",
            "0  Manav,Adarsh gupta,Sundeep,S.Sayeed Ahmed,jasp...   \n",
            "1  ArdKn,Nirbhay kumar,Sagar Viswanathan,Asp,Plac...   \n",
            "2  Kunal,Himanshu,viswanath,sai niharka,saqib mal...   \n",
            "3  Omkar dhale,JD,HEMALATHA,Ajwadh a.,amar singh ...   \n",
            "4  rahuls6099,Swasat Borah,Ajay Wadke,Pranali,RVK...   \n",
            "\n",
            "                                           review_id  \\\n",
            "0  R3HXWT0LRP0NMF,R2AJM3LFTLZHFO,R6AQJGUP6P86,R1K...   \n",
            "1  RGIQEG07R9HS2,R1SMWZQ86XIN8U,R2J3Y1WL29GWDE,RY...   \n",
            "2  R3J3EQQ9TZI5ZJ,R3E7WBGK7ID0KV,RWU79XKQ6I1QF,R2...   \n",
            "3  R3EEUZKKK9J36I,R3HJVYCLYOY554,REDECAZ7AMPQC,R1...   \n",
            "4  R1BP4L2HH9TFUP,R16PVJEXKV6QZS,R2UPDB81N66T4P,R...   \n",
            "\n",
            "                                        review_title  \\\n",
            "0  Satisfied,Charging is really fast,Value for mo...   \n",
            "1  A Good Braided Cable for Your Type C Device,Go...   \n",
            "2  Good speed for earlier versions,Good Product,W...   \n",
            "3  Good product,Good one,Nice,Really nice product...   \n",
            "4  As good as original,Decent,Good one for second...   \n",
            "\n",
            "                                      review_content  \\\n",
            "0  Looks durable Charging is fine tooNo complains...   \n",
            "1  I ordered this cable to connect my phone to An...   \n",
            "2  Not quite durable and sturdy,https://m.media-a...   \n",
            "3  Good product,long wire,Charges good,Nice,I bou...   \n",
            "4  Bought this instead of original apple, does th...   \n",
            "\n",
            "                                            img_link  \\\n",
            "0  https://m.media-amazon.com/images/W/WEBP_40237...   \n",
            "1  https://m.media-amazon.com/images/W/WEBP_40237...   \n",
            "2  https://m.media-amazon.com/images/W/WEBP_40237...   \n",
            "3  https://m.media-amazon.com/images/I/41V5FtEWPk...   \n",
            "4  https://m.media-amazon.com/images/W/WEBP_40237...   \n",
            "\n",
            "                                        product_link  \\\n",
            "0  https://www.amazon.in/Wayona-Braided-WN3LG1-Sy...   \n",
            "1  https://www.amazon.in/Ambrane-Unbreakable-Char...   \n",
            "2  https://www.amazon.in/Sounce-iPhone-Charging-C...   \n",
            "3  https://www.amazon.in/Deuce-300-Resistant-Tang...   \n",
            "4  https://www.amazon.in/Portronics-Konnect-POR-1...   \n",
            "\n",
            "                                   combined_features  \n",
            "0  computers&accessories|accessories&peripherals|...  \n",
            "1  computers&accessories|accessories&peripherals|...  \n",
            "2  computers&accessories|accessories&peripherals|...  \n",
            "3  computers&accessories|accessories&peripherals|...  \n",
            "4  computers&accessories|accessories&peripherals|...  \n"
          ]
        }
      ]
    },
    {
      "cell_type": "markdown",
      "source": [
        "**Collaborative Filtering**\n",
        "\n",
        "We will now create a User-Item Interaction Matrix based on implicit feedback (browsing history or purchase interactions). Since the dataset doesn't have explicit ratings, we will treat interactions as binary values (i.e., user has interacted with the product or not)."
      ],
      "metadata": {
        "id": "BRvMZG8qGoIK"
      }
    },
    {
      "cell_type": "code",
      "source": [
        "interaction_matrix = pd.pivot_table(data, index='user_id', columns='product_id', aggfunc='count', fill_value=0)\n",
        "print(interaction_matrix.head())\n"
      ],
      "metadata": {
        "colab": {
          "base_uri": "https://localhost:8080/"
        },
        "id": "_rvJAfZMsXlt",
        "outputId": "46781284-1b6e-4239-a7bf-de308a3e4add"
      },
      "execution_count": null,
      "outputs": [
        {
          "output_type": "stream",
          "name": "stdout",
          "text": [
            "                                                   about_product             \\\n",
            "product_id                                            B002PD61Y4 B002SZEOLG   \n",
            "user_id                                                                       \n",
            "AE22Y3KIS7SE6LI3HE2VS6WWPU4Q,AHWEYO2IJ5I5GDWZAH...             0          0   \n",
            "AE23RS3W7GZO7LHYKJU6KSKVM4MQ,AEQUNEY6GQOTEGUMS6...             0          0   \n",
            "AE242TR3GQ6TYC6W4SJ5UYYKBTYQ                                   0          0   \n",
            "AE27UOZENYSWCQVQRRUQIV2ZM7VA,AGMYSLV6NNOAYES25J...             0          0   \n",
            "AE2JTMRKTUOIVIZWS2WDGTMNTU4Q,AF4QXCB32VC2DVE7O3...             0          0   \n",
            "\n",
            "                                                                          \\\n",
            "product_id                                         B003B00484 B003L62T7W   \n",
            "user_id                                                                    \n",
            "AE22Y3KIS7SE6LI3HE2VS6WWPU4Q,AHWEYO2IJ5I5GDWZAH...          0          0   \n",
            "AE23RS3W7GZO7LHYKJU6KSKVM4MQ,AEQUNEY6GQOTEGUMS6...          0          0   \n",
            "AE242TR3GQ6TYC6W4SJ5UYYKBTYQ                                0          0   \n",
            "AE27UOZENYSWCQVQRRUQIV2ZM7VA,AGMYSLV6NNOAYES25J...          0          0   \n",
            "AE2JTMRKTUOIVIZWS2WDGTMNTU4Q,AF4QXCB32VC2DVE7O3...          0          0   \n",
            "\n",
            "                                                                          \\\n",
            "product_id                                         B004IO5BMQ B005FYNT3G   \n",
            "user_id                                                                    \n",
            "AE22Y3KIS7SE6LI3HE2VS6WWPU4Q,AHWEYO2IJ5I5GDWZAH...          0          0   \n",
            "AE23RS3W7GZO7LHYKJU6KSKVM4MQ,AEQUNEY6GQOTEGUMS6...          0          0   \n",
            "AE242TR3GQ6TYC6W4SJ5UYYKBTYQ                                0          0   \n",
            "AE27UOZENYSWCQVQRRUQIV2ZM7VA,AGMYSLV6NNOAYES25J...          0          0   \n",
            "AE2JTMRKTUOIVIZWS2WDGTMNTU4Q,AF4QXCB32VC2DVE7O3...          0          0   \n",
            "\n",
            "                                                                          \\\n",
            "product_id                                         B005LJQMCK B005LJQMZC   \n",
            "user_id                                                                    \n",
            "AE22Y3KIS7SE6LI3HE2VS6WWPU4Q,AHWEYO2IJ5I5GDWZAH...          0          0   \n",
            "AE23RS3W7GZO7LHYKJU6KSKVM4MQ,AEQUNEY6GQOTEGUMS6...          0          0   \n",
            "AE242TR3GQ6TYC6W4SJ5UYYKBTYQ                                0          0   \n",
            "AE27UOZENYSWCQVQRRUQIV2ZM7VA,AGMYSLV6NNOAYES25J...          0          0   \n",
            "AE2JTMRKTUOIVIZWS2WDGTMNTU4Q,AF4QXCB32VC2DVE7O3...          0          0   \n",
            "\n",
            "                                                                          ...  \\\n",
            "product_id                                         B006LW0WDQ B0073QGKAS  ...   \n",
            "user_id                                                                   ...   \n",
            "AE22Y3KIS7SE6LI3HE2VS6WWPU4Q,AHWEYO2IJ5I5GDWZAH...          0          0  ...   \n",
            "AE23RS3W7GZO7LHYKJU6KSKVM4MQ,AEQUNEY6GQOTEGUMS6...          0          0  ...   \n",
            "AE242TR3GQ6TYC6W4SJ5UYYKBTYQ                                0          0  ...   \n",
            "AE27UOZENYSWCQVQRRUQIV2ZM7VA,AGMYSLV6NNOAYES25J...          0          0  ...   \n",
            "AE2JTMRKTUOIVIZWS2WDGTMNTU4Q,AF4QXCB32VC2DVE7O3...          0          0  ...   \n",
            "\n",
            "                                                    user_name             \\\n",
            "product_id                                         B0BP18W8TM B0BP7XLX48   \n",
            "user_id                                                                    \n",
            "AE22Y3KIS7SE6LI3HE2VS6WWPU4Q,AHWEYO2IJ5I5GDWZAH...          0          0   \n",
            "AE23RS3W7GZO7LHYKJU6KSKVM4MQ,AEQUNEY6GQOTEGUMS6...          0          0   \n",
            "AE242TR3GQ6TYC6W4SJ5UYYKBTYQ                                0          0   \n",
            "AE27UOZENYSWCQVQRRUQIV2ZM7VA,AGMYSLV6NNOAYES25J...          0          0   \n",
            "AE2JTMRKTUOIVIZWS2WDGTMNTU4Q,AF4QXCB32VC2DVE7O3...          0          0   \n",
            "\n",
            "                                                                          \\\n",
            "product_id                                         B0BP89YBC1 B0BPBG712X   \n",
            "user_id                                                                    \n",
            "AE22Y3KIS7SE6LI3HE2VS6WWPU4Q,AHWEYO2IJ5I5GDWZAH...          0          0   \n",
            "AE23RS3W7GZO7LHYKJU6KSKVM4MQ,AEQUNEY6GQOTEGUMS6...          0          0   \n",
            "AE242TR3GQ6TYC6W4SJ5UYYKBTYQ                                0          0   \n",
            "AE27UOZENYSWCQVQRRUQIV2ZM7VA,AGMYSLV6NNOAYES25J...          0          0   \n",
            "AE2JTMRKTUOIVIZWS2WDGTMNTU4Q,AF4QXCB32VC2DVE7O3...          0          0   \n",
            "\n",
            "                                                                          \\\n",
            "product_id                                         B0BPBXNQQT B0BPCJM7TB   \n",
            "user_id                                                                    \n",
            "AE22Y3KIS7SE6LI3HE2VS6WWPU4Q,AHWEYO2IJ5I5GDWZAH...          0          0   \n",
            "AE23RS3W7GZO7LHYKJU6KSKVM4MQ,AEQUNEY6GQOTEGUMS6...          0          0   \n",
            "AE242TR3GQ6TYC6W4SJ5UYYKBTYQ                                0          0   \n",
            "AE27UOZENYSWCQVQRRUQIV2ZM7VA,AGMYSLV6NNOAYES25J...          0          0   \n",
            "AE2JTMRKTUOIVIZWS2WDGTMNTU4Q,AF4QXCB32VC2DVE7O3...          0          0   \n",
            "\n",
            "                                                                          \\\n",
            "product_id                                         B0BPJBTB3F B0BQ3K23Y1   \n",
            "user_id                                                                    \n",
            "AE22Y3KIS7SE6LI3HE2VS6WWPU4Q,AHWEYO2IJ5I5GDWZAH...          0          0   \n",
            "AE23RS3W7GZO7LHYKJU6KSKVM4MQ,AEQUNEY6GQOTEGUMS6...          0          0   \n",
            "AE242TR3GQ6TYC6W4SJ5UYYKBTYQ                                0          0   \n",
            "AE27UOZENYSWCQVQRRUQIV2ZM7VA,AGMYSLV6NNOAYES25J...          0          0   \n",
            "AE2JTMRKTUOIVIZWS2WDGTMNTU4Q,AF4QXCB32VC2DVE7O3...          0          0   \n",
            "\n",
            "                                                                          \n",
            "product_id                                         B0BQRJ3C47 B0BR4F878Q  \n",
            "user_id                                                                   \n",
            "AE22Y3KIS7SE6LI3HE2VS6WWPU4Q,AHWEYO2IJ5I5GDWZAH...          0          0  \n",
            "AE23RS3W7GZO7LHYKJU6KSKVM4MQ,AEQUNEY6GQOTEGUMS6...          0          0  \n",
            "AE242TR3GQ6TYC6W4SJ5UYYKBTYQ                                0          0  \n",
            "AE27UOZENYSWCQVQRRUQIV2ZM7VA,AGMYSLV6NNOAYES25J...          0          0  \n",
            "AE2JTMRKTUOIVIZWS2WDGTMNTU4Q,AF4QXCB32VC2DVE7O3...          0          0  \n",
            "\n",
            "[5 rows x 20265 columns]\n"
          ]
        }
      ]
    },
    {
      "cell_type": "markdown",
      "source": [
        "**Singular Value Decomposition (SVD) for Collaborative Filtering**\n",
        "\n",
        "We'll apply Singular Value Decomposition (SVD) to factorize the interaction matrix and use it to generate user-product\n",
        "recommendations based on similarity."
      ],
      "metadata": {
        "id": "axbMP04lHQVL"
      }
    },
    {
      "cell_type": "code",
      "source": [
        "from sklearn.decomposition import TruncatedSVD\n",
        "import numpy as np\n",
        "from sklearn.metrics.pairwise import cosine_similarity\n",
        "\n",
        "# Apply SVD for dimensionality reduction\n",
        "svd = TruncatedSVD(n_components=20, random_state=42)\n",
        "svd_matrix = svd.fit_transform(interaction_matrix)\n",
        "\n",
        "# Reconstruct the matrix with the reduced dimensions\n",
        "reconstructed_matrix = np.dot(svd_matrix, svd.components_)\n",
        "\n",
        "# Calculate similarity between users\n",
        "user_similarity = cosine_similarity(reconstructed_matrix)\n",
        "\n",
        "\n",
        "print(user_similarity[:5])\n"
      ],
      "metadata": {
        "id": "Svxl327sscSN",
        "colab": {
          "base_uri": "https://localhost:8080/"
        },
        "outputId": "8436d7f7-856b-41d4-8ea8-5893ad4755f1"
      },
      "execution_count": 5,
      "outputs": [
        {
          "output_type": "stream",
          "name": "stdout",
          "text": [
            "[[ 1.         -0.40654363  0.45059835 ...  0.56906135 -0.28500942\n",
            "  -0.08969197]\n",
            " [-0.40654363  1.         -0.10407396 ... -0.63880637  0.47620303\n",
            "   0.12734604]\n",
            " [ 0.45059835 -0.10407396  1.         ... -0.0130442  -0.05828457\n",
            "   0.06469386]\n",
            " [-0.2365112   0.0230934  -0.56591956 ...  0.23565627  0.49816114\n",
            "   0.17609086]\n",
            " [ 0.15889617  0.11432748  0.49287107 ... -0.10516032  0.29107228\n",
            "  -0.39183791]]\n"
          ]
        }
      ]
    },
    {
      "cell_type": "markdown",
      "source": [
        "**Generate Collaborative Filtering Recommendations**\n",
        "\n",
        "Using the similarity between users, we will recommend products to a user based on what similar users have interacted with."
      ],
      "metadata": {
        "id": "_Bm-DYThJpPl"
      }
    },
    {
      "cell_type": "code",
      "source": [
        "def get_collaborative_recommendations(user_id, top_n=5):\n",
        "    # Get the index of the user in the interaction matrix\n",
        "    user_idx = interaction_matrix.index.get_loc(user_id)\n",
        "    similarity_scores = user_similarity[user_idx]\n",
        "    similar_user_indices = similarity_scores.argsort()[-(top_n + 1):-1][::-1]\n",
        "\n",
        "    recommended_products = set()\n",
        "\n",
        "    for idx in similar_user_indices:\n",
        "        similar_user = interaction_matrix.index[idx]\n",
        "        similar_user_interactions = interaction_matrix.loc[similar_user]\n",
        "\n",
        "        # Recommend products that similar users interacted\n",
        "        recommended_products.update(similar_user_interactions[similar_user_interactions > 0].index)\n",
        "\n",
        "    return list(recommended_products)[:top_n]\n",
        "\n"
      ],
      "metadata": {
        "id": "lkwXm0jjsj8E"
      },
      "execution_count": 7,
      "outputs": []
    },
    {
      "cell_type": "markdown",
      "source": [
        "**Content-Based Filtering**\n",
        "\n",
        "Now, let’s implement Content-Based Filtering using TF-IDF vectorization. We will use the combined_features column (which includes both category and about_product) to compute the similarity between products."
      ],
      "metadata": {
        "id": "F5mwiahYJ7AE"
      }
    },
    {
      "cell_type": "code",
      "source": [
        "from sklearn.feature_extraction.text import TfidfVectorizer\n",
        "from sklearn.metrics.pairwise import cosine_similarity\n",
        "\n",
        "# Create the TF-IDF vectorizer\n",
        "vectorizer = TfidfVectorizer(stop_words='english')\n",
        "tfidf_matrix = vectorizer.fit_transform(data['combined_features'])\n",
        "content_similarity_matrix = cosine_similarity(tfidf_matrix)\n",
        "\n",
        "\n",
        "print(content_similarity_matrix[0])\n"
      ],
      "metadata": {
        "colab": {
          "base_uri": "https://localhost:8080/"
        },
        "id": "xsSjYTMGsrxk",
        "outputId": "645063ea-1655-4181-810a-2d93bbf5ca20"
      },
      "execution_count": 11,
      "outputs": [
        {
          "output_type": "stream",
          "name": "stdout",
          "text": [
            "[1.         0.1026719  0.20312501 ... 0.02831326 0.03023311 0.00254099]\n"
          ]
        }
      ]
    },
    {
      "cell_type": "markdown",
      "source": [
        "**Hybrid Recommendation System**\n",
        "\n",
        "Now that we have both collaborative and content-based recommendations, we can combine the two methods to form a Hybrid Recommendation System. The idea is to take the union of both sets of recommendations or give weights to each. bold text"
      ],
      "metadata": {
        "id": "Sh3Qp5EjKZ-V"
      }
    },
    {
      "cell_type": "code",
      "source": [
        "def get_content_based_recommendations(product_id, top_n=5):\n",
        "    product_idx = data[data['product_id'] == product_id].index[0]\n",
        "    similarities = content_similarity_matrix[product_idx]\n",
        "    similar_product_idx = similarities.argsort()[-(top_n + 1):-1][::-1]\n",
        "\n",
        "    recommended_product_ids = data.iloc[similar_product_idx]['product_id'].tolist()\n",
        "\n",
        "    return recommended_product_ids\n",
        "\n",
        "# Example:\n",
        "product_id = \"B07JW9H4J1\"\n",
        "content_based_recommendations = get_content_based_recommendations(product_id)\n",
        "print(f\"Content-based recommendations for product {product_id}: {content_based_recommendations}\")\n"
      ],
      "metadata": {
        "colab": {
          "base_uri": "https://localhost:8080/"
        },
        "id": "n734mnQvswe8",
        "outputId": "c3974ee2-987e-4f38-bc88-c75ee9f68228"
      },
      "execution_count": 14,
      "outputs": [
        {
          "output_type": "stream",
          "name": "stdout",
          "text": [
            "Content-based recommendations for product B07JW9H4J1: ['B07JW9H4J1', 'B07JW9H4J1', 'B07JH1CBGW', 'B07JH1C41D', 'B07JW1Y6XV']\n"
          ]
        }
      ]
    },
    {
      "cell_type": "markdown",
      "source": [
        "**Real-Time Recommendations**\n",
        "\n",
        "For real-time updates, you can simulate real-time browsing or interaction and immediately generate recommendations based on the recent activity."
      ],
      "metadata": {
        "id": "f0OZ1dmZKlRu"
      }
    },
    {
      "cell_type": "code",
      "source": [
        "def get_hybrid_recommendations(user_id, product_id, top_n=5, alpha=0.6):\n",
        "    # collaborative filtering\n",
        "    collaborative_recs = get_collaborative_recommendations(user_id, top_n=top_n)\n",
        "\n",
        "    # content-based filtering\n",
        "    content_recs = get_content_based_recommendations(product_id, top_n=top_n)\n",
        "\n",
        "    # Combine recommendations: a weighted average of both\n",
        "    combined_recs = set(collaborative_recs) | set(content_recs)\n",
        "\n",
        "    # Return top N unique recommendations\n",
        "    return list(combined_recs)[:top_n]\n"
      ],
      "metadata": {
        "id": "isyeu8RBtFG8"
      },
      "execution_count": 16,
      "outputs": []
    },
    {
      "cell_type": "markdown",
      "source": [
        "**Evaluation**\n",
        "\n",
        "We can evaluate the recommendation system using Precision, Recall, or Mean Average Precision (MAP) by comparing the generated recommendations with actual user preferences."
      ],
      "metadata": {
        "id": "aH6Q0lp-K35m"
      }
    },
    {
      "cell_type": "code",
      "source": [
        "recently_browsed_product = \"B07JW9H4J1\"\n",
        "recent_user_id = \"AG3D6O4STAQKAY2UVGEUV46KN35Q,AHMY5CWJMMK5BJRBBSNLYT3ONILA,AHCTC6ULH4XB6YHDY6PCH2R772LQ,AGYHHIERNXKA6P5T7CZLXKVPT7IQ,AG4OGOFWXJZTQ2HKYIOCOY3KXF2Q,AENGU523SXMOS7JPDTW52PNNVWGQ,AEQJHCVTNINBS4FKTBGQRQTGTE5Q,AFC3FFC5PKFF5PMA52S3VCHOZ5FQ\"  # Example user who viewed the product\n",
        "\n",
        "# Function to get product names for a list of product_ids\n",
        "def get_product_names(product_ids):\n",
        "    # Assuming 'data' is the original dataset loaded with product details\n",
        "    product_names = data[data['product_id'].isin(product_ids)]['product_name'].tolist()\n",
        "    return product_names\n",
        "\n",
        "# real-time recommendations based on the recent activity (product IDs)\n",
        "real_time_recommendations_ids = get_hybrid_recommendations(user_id=recent_user_id, product_id=recently_browsed_product, top_n=5)\n",
        "\n",
        "# Get product names for the recommended product IDs\n",
        "real_time_recommendations_names = get_product_names(real_time_recommendations_ids)\n",
        "\n",
        "print(f\"Real-time recommendations for user {recent_user_id} after viewing product {recently_browsed_product}: {real_time_recommendations_names}\")\n"
      ],
      "metadata": {
        "colab": {
          "base_uri": "https://localhost:8080/"
        },
        "id": "O8ldf26stkpz",
        "outputId": "d8c7410a-9a9a-4d34-a4d2-c34d6e5cf198"
      },
      "execution_count": 18,
      "outputs": [
        {
          "output_type": "stream",
          "name": "stdout",
          "text": [
            "Real-time recommendations for user AG3D6O4STAQKAY2UVGEUV46KN35Q,AHMY5CWJMMK5BJRBBSNLYT3ONILA,AHCTC6ULH4XB6YHDY6PCH2R772LQ,AGYHHIERNXKA6P5T7CZLXKVPT7IQ,AG4OGOFWXJZTQ2HKYIOCOY3KXF2Q,AENGU523SXMOS7JPDTW52PNNVWGQ,AEQJHCVTNINBS4FKTBGQRQTGTE5Q,AFC3FFC5PKFF5PMA52S3VCHOZ5FQ after viewing product B07JW9H4J1: []\n"
          ]
        }
      ]
    }
  ]
}